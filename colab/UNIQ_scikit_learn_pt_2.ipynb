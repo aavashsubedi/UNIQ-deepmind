{
  "nbformat": 4,
  "nbformat_minor": 0,
  "metadata": {
    "colab": {
      "name": "Copy of UNIQ_scikit-learn_pt_2.ipynb",
      "provenance": []
    },
    "kernelspec": {
      "name": "python3",
      "display_name": "Python 3"
    },
    "language_info": {
      "name": "python"
    }
  },
  "cells": [
    {
      "cell_type": "markdown",
      "source": [
        "# Introducing Scikit-Learn (ii)"
      ],
      "metadata": {
        "id": "LPrtgV2gu2QM"
      }
    },
    {
      "cell_type": "code",
      "source": [
        "# Import a few basic required libraries here:\n",
        "import numpy as np"
      ],
      "metadata": {
        "id": "F9ubFqttXWKq"
      },
      "execution_count": null,
      "outputs": []
    },
    {
      "cell_type": "markdown",
      "source": [
        "Having completed a basic overview, we will now use Scikit-Learn to visualise  a few fundamental concepts in machine learning. These will include:\n",
        "* Bias-variance trade-off\n",
        "* Something else\n",
        "\n",
        "Thereafter, we will move to a real-world example to give you the opportunity to conduct a mock data science problem yourself. There is no expectation on any particular scores your models might achieve, the only goal is that you get a feel for how one might approach an ML problem, and what tools exist to score your model."
      ],
      "metadata": {
        "id": "A_XNU6VFvHOP"
      }
    },
    {
      "cell_type": "markdown",
      "source": [
        "### Bias-variance tradeoff"
      ],
      "metadata": {
        "id": "og9HvadR08Rm"
      }
    },
    {
      "cell_type": "code",
      "source": [
        "..."
      ],
      "metadata": {
        "id": "QmsnbqMz0_tc"
      },
      "execution_count": null,
      "outputs": []
    },
    {
      "cell_type": "markdown",
      "source": [
        "# Example real-world problem"
      ],
      "metadata": {
        "id": "5RWbK5Fu1Bag"
      }
    },
    {
      "cell_type": "markdown",
      "source": [
        "Machine learning is prevelant in today's scientific landscape, with applications spanning Biomedical engineering, astrostatistics, finance, the entertainment industry, and countless other disciplines. \n",
        "\n",
        "In this tutorial we will consider how one might use ML to classify acoustics into categories. This type of analysis involves:\n",
        "\n",
        "\n",
        "\n",
        "1.   Data collection and pre-processing\n",
        "2.   Feature generation\n",
        "3.   Model selection\n",
        "4.   Model training\n",
        "5.   Analysing model performance\n",
        "\n",
        "You will find in practice that the key to unlocking good predictive insights is the quality and quantity of data used. We will however not make this the focal point, and assume the data is clean within reason.\n",
        "\n",
        "If you are interested in common difficulties encountered with data processing, please refer to [XYZ]\n",
        "\n"
      ],
      "metadata": {
        "id": "P0N8pgRI3ikP"
      }
    },
    {
      "cell_type": "markdown",
      "source": [
        "### Problem definition\n",
        "#### Mosquito acoustic detection: can we use machine learning to detect mosquitoes from the sound of their acoustic wingbeat?\n",
        "\n",
        "Mosquitoes are responsible over xyz yyz [cite]. As a byproduct of their behaviour patterns, they produce a characteristic buzz from their flight, mating calls, and other etc... The idea is to leverage this sound with cheap sensors (acoustic smartphone sensors in an IoT network) to be able to estimate the prevelance of mosquitoes in a particular area. To do this, we need algorithms capable of distinguishing the buzz of mosquito from its surroundings. In this challenge we will show how it is possible to use Scikit-learn to build a basic classifier to achieve this."
      ],
      "metadata": {
        "id": "Rc6fC_-F3WqH"
      }
    },
    {
      "cell_type": "markdown",
      "source": [
        "## 1. Data input processing \n",
        "\n",
        "By default, opening colab will place you in the following directory:"
      ],
      "metadata": {
        "id": "j9MLBeU8p7Vr"
      }
    },
    {
      "cell_type": "code",
      "source": [
        "import os\n",
        "os.getcwd()"
      ],
      "metadata": {
        "colab": {
          "base_uri": "https://localhost:8080/",
          "height": 35
        },
        "id": "VHg9bjC4ij54",
        "outputId": "645e7d3b-37bf-4447-94a4-95f393d2d6cb"
      },
      "execution_count": null,
      "outputs": [
        {
          "output_type": "execute_result",
          "data": {
            "text/plain": [
              "'/content'"
            ],
            "application/vnd.google.colaboratory.intrinsic+json": {
              "type": "string"
            }
          },
          "metadata": {},
          "execution_count": 4
        }
      ]
    },
    {
      "cell_type": "markdown",
      "source": [
        "We can now donwload the dataset of interest from the repository with `wget` and unzip to the subfolder `data`. The `!` before the command is used to run operating system commands directly in the notebook cell (in this case, which ever Linux OS the colab machines are using)."
      ],
      "metadata": {
        "id": "iFSHA-ill75A"
      }
    },
    {
      "cell_type": "code",
      "source": [
        "!wget https://github.com/ikiskin/UNIQ-deepmind/raw/master/data/CulexMozzSounds.zip # Get audio files\n",
        "!wget https://github.com/ikiskin/UNIQ-deepmind/raw/master/data/CulexUNIQ.csv -O data/CulexUNIQ.csv # Get labels and place in data subdir\n",
        "!unzip /content/CulexMozzSounds.zip -d /content/data/ # unzip files to data subdir"
      ],
      "metadata": {
        "id": "UC9Zik-FoFFQ",
        "colab": {
          "base_uri": "https://localhost:8080/"
        },
        "outputId": "cdcc2677-da3c-4080-97da-390f36c956e3"
      },
      "execution_count": null,
      "outputs": [
        {
          "output_type": "stream",
          "name": "stdout",
          "text": [
            "--2022-06-29 22:53:59--  https://github.com/ikiskin/UNIQ-deepmind/raw/master/data/CulexMozzSounds.zip\n",
            "Resolving github.com (github.com)... 140.82.121.3\n",
            "Connecting to github.com (github.com)|140.82.121.3|:443... connected.\n",
            "HTTP request sent, awaiting response... 302 Found\n",
            "Location: https://raw.githubusercontent.com/ikiskin/UNIQ-deepmind/master/data/CulexMozzSounds.zip [following]\n",
            "--2022-06-29 22:53:59--  https://raw.githubusercontent.com/ikiskin/UNIQ-deepmind/master/data/CulexMozzSounds.zip\n",
            "Resolving raw.githubusercontent.com (raw.githubusercontent.com)... 185.199.108.133, 185.199.109.133, 185.199.110.133, ...\n",
            "Connecting to raw.githubusercontent.com (raw.githubusercontent.com)|185.199.108.133|:443... connected.\n",
            "HTTP request sent, awaiting response... 200 OK\n",
            "Length: 28644396 (27M) [application/zip]\n",
            "Saving to: ‘CulexMozzSounds.zip.1’\n",
            "\n",
            "CulexMozzSounds.zip 100%[===================>]  27.32M  80.2MB/s    in 0.3s    \n",
            "\n",
            "2022-06-29 22:53:59 (80.2 MB/s) - ‘CulexMozzSounds.zip.1’ saved [28644396/28644396]\n",
            "\n",
            "--2022-06-29 22:53:59--  https://github.com/ikiskin/UNIQ-deepmind/raw/master/data/CulexUNIQ.csv\n",
            "Resolving github.com (github.com)... 140.82.121.4\n",
            "Connecting to github.com (github.com)|140.82.121.4|:443... connected.\n",
            "HTTP request sent, awaiting response... 302 Found\n",
            "Location: https://raw.githubusercontent.com/ikiskin/UNIQ-deepmind/master/data/CulexUNIQ.csv [following]\n",
            "--2022-06-29 22:54:00--  https://raw.githubusercontent.com/ikiskin/UNIQ-deepmind/master/data/CulexUNIQ.csv\n",
            "Resolving raw.githubusercontent.com (raw.githubusercontent.com)... 185.199.110.133, 185.199.108.133, 185.199.109.133, ...\n",
            "Connecting to raw.githubusercontent.com (raw.githubusercontent.com)|185.199.110.133|:443... connected.\n",
            "HTTP request sent, awaiting response... 200 OK\n",
            "Length: 22478 (22K) [text/plain]\n",
            "Saving to: ‘data/CulexUNIQ.csv’\n",
            "\n",
            "data/CulexUNIQ.csv  100%[===================>]  21.95K  --.-KB/s    in 0s      \n",
            "\n",
            "2022-06-29 22:54:00 (71.2 MB/s) - ‘data/CulexUNIQ.csv’ saved [22478/22478]\n",
            "\n",
            "Archive:  /content/CulexMozzSounds.zip\n",
            "replace /content/data/0001_norm.wav? [y]es, [n]o, [A]ll, [N]one, [r]ename: N\n"
          ]
        }
      ]
    },
    {
      "cell_type": "markdown",
      "source": [
        "To start, we will split the recordings into a training and testing hold-out set. This is to ensure that we do not see parts of identical recordings in both training or testing"
      ],
      "metadata": {
        "id": "Hhzu86cbm8uG"
      }
    },
    {
      "cell_type": "code",
      "source": [
        "import pandas as pd"
      ],
      "metadata": {
        "id": "-nQcE4bDxhP5"
      },
      "execution_count": null,
      "outputs": []
    },
    {
      "cell_type": "code",
      "source": [
        "df = pd.read_csv('data/CulexUNIQ.csv')"
      ],
      "metadata": {
        "id": "KgBRi-AdxiZA"
      },
      "execution_count": null,
      "outputs": []
    },
    {
      "cell_type": "code",
      "source": [
        "df.head()  # Display a few label entries"
      ],
      "metadata": {
        "id": "KyPGrHNvx-oQ",
        "outputId": "0aaf2c8f-8bd8-40e9-9e09-4c0c5d77ced5",
        "colab": {
          "base_uri": "https://localhost:8080/",
          "height": 357
        }
      },
      "execution_count": null,
      "outputs": [
        {
          "output_type": "execute_result",
          "data": {
            "text/plain": [
              "       id  fine_start_time  fine_end_time                         path  \\\n",
              "0  222691              0.0         53.760  /Culex/sounds/0001_norm.wav   \n",
              "1  222692              0.0         54.272  /Culex/sounds/0002_norm.wav   \n",
              "2  222693              0.0         54.272  /Culex/sounds/0003_norm.wav   \n",
              "3  222694              0.0         54.272  /Culex/sounds/0004_norm.wav   \n",
              "4  222695              0.0         54.272  /Culex/sounds/0005_norm.wav   \n",
              "\n",
              "            name  sample_rate  sound_type species  gender  fed  plurality  \\\n",
              "0  0001_norm.wav         8000  background     NaN     NaN  NaN        NaN   \n",
              "1  0002_norm.wav         8000  background     NaN     NaN  NaN        NaN   \n",
              "2  0003_norm.wav         8000  background     NaN     NaN  NaN        NaN   \n",
              "3  0004_norm.wav         8000  background     NaN     NaN  NaN        NaN   \n",
              "4  0005_norm.wav         8000  background     NaN     NaN  NaN        NaN   \n",
              "\n",
              "   age  method mic_type device_type country     district  province  \\\n",
              "0  NaN     NaN    phone     Alcatel      UK  Oxfordshire       NaN   \n",
              "1  NaN     NaN    phone     Alcatel      UK  Oxfordshire       NaN   \n",
              "2  NaN     NaN    phone     Alcatel      UK  Oxfordshire       NaN   \n",
              "3  NaN     NaN    phone     Alcatel      UK  Oxfordshire       NaN   \n",
              "4  NaN     NaN    phone     Alcatel      UK  Oxfordshire       NaN   \n",
              "\n",
              "            place location_type  \n",
              "0  Oxford Zoology       culture  \n",
              "1  Oxford Zoology       culture  \n",
              "2  Oxford Zoology       culture  \n",
              "3  Oxford Zoology       culture  \n",
              "4  Oxford Zoology       culture  "
            ],
            "text/html": [
              "\n",
              "  <div id=\"df-141cc34a-bc17-4fc9-af75-c856c111e75d\">\n",
              "    <div class=\"colab-df-container\">\n",
              "      <div>\n",
              "<style scoped>\n",
              "    .dataframe tbody tr th:only-of-type {\n",
              "        vertical-align: middle;\n",
              "    }\n",
              "\n",
              "    .dataframe tbody tr th {\n",
              "        vertical-align: top;\n",
              "    }\n",
              "\n",
              "    .dataframe thead th {\n",
              "        text-align: right;\n",
              "    }\n",
              "</style>\n",
              "<table border=\"1\" class=\"dataframe\">\n",
              "  <thead>\n",
              "    <tr style=\"text-align: right;\">\n",
              "      <th></th>\n",
              "      <th>id</th>\n",
              "      <th>fine_start_time</th>\n",
              "      <th>fine_end_time</th>\n",
              "      <th>path</th>\n",
              "      <th>name</th>\n",
              "      <th>sample_rate</th>\n",
              "      <th>sound_type</th>\n",
              "      <th>species</th>\n",
              "      <th>gender</th>\n",
              "      <th>fed</th>\n",
              "      <th>plurality</th>\n",
              "      <th>age</th>\n",
              "      <th>method</th>\n",
              "      <th>mic_type</th>\n",
              "      <th>device_type</th>\n",
              "      <th>country</th>\n",
              "      <th>district</th>\n",
              "      <th>province</th>\n",
              "      <th>place</th>\n",
              "      <th>location_type</th>\n",
              "    </tr>\n",
              "  </thead>\n",
              "  <tbody>\n",
              "    <tr>\n",
              "      <th>0</th>\n",
              "      <td>222691</td>\n",
              "      <td>0.0</td>\n",
              "      <td>53.760</td>\n",
              "      <td>/Culex/sounds/0001_norm.wav</td>\n",
              "      <td>0001_norm.wav</td>\n",
              "      <td>8000</td>\n",
              "      <td>background</td>\n",
              "      <td>NaN</td>\n",
              "      <td>NaN</td>\n",
              "      <td>NaN</td>\n",
              "      <td>NaN</td>\n",
              "      <td>NaN</td>\n",
              "      <td>NaN</td>\n",
              "      <td>phone</td>\n",
              "      <td>Alcatel</td>\n",
              "      <td>UK</td>\n",
              "      <td>Oxfordshire</td>\n",
              "      <td>NaN</td>\n",
              "      <td>Oxford Zoology</td>\n",
              "      <td>culture</td>\n",
              "    </tr>\n",
              "    <tr>\n",
              "      <th>1</th>\n",
              "      <td>222692</td>\n",
              "      <td>0.0</td>\n",
              "      <td>54.272</td>\n",
              "      <td>/Culex/sounds/0002_norm.wav</td>\n",
              "      <td>0002_norm.wav</td>\n",
              "      <td>8000</td>\n",
              "      <td>background</td>\n",
              "      <td>NaN</td>\n",
              "      <td>NaN</td>\n",
              "      <td>NaN</td>\n",
              "      <td>NaN</td>\n",
              "      <td>NaN</td>\n",
              "      <td>NaN</td>\n",
              "      <td>phone</td>\n",
              "      <td>Alcatel</td>\n",
              "      <td>UK</td>\n",
              "      <td>Oxfordshire</td>\n",
              "      <td>NaN</td>\n",
              "      <td>Oxford Zoology</td>\n",
              "      <td>culture</td>\n",
              "    </tr>\n",
              "    <tr>\n",
              "      <th>2</th>\n",
              "      <td>222693</td>\n",
              "      <td>0.0</td>\n",
              "      <td>54.272</td>\n",
              "      <td>/Culex/sounds/0003_norm.wav</td>\n",
              "      <td>0003_norm.wav</td>\n",
              "      <td>8000</td>\n",
              "      <td>background</td>\n",
              "      <td>NaN</td>\n",
              "      <td>NaN</td>\n",
              "      <td>NaN</td>\n",
              "      <td>NaN</td>\n",
              "      <td>NaN</td>\n",
              "      <td>NaN</td>\n",
              "      <td>phone</td>\n",
              "      <td>Alcatel</td>\n",
              "      <td>UK</td>\n",
              "      <td>Oxfordshire</td>\n",
              "      <td>NaN</td>\n",
              "      <td>Oxford Zoology</td>\n",
              "      <td>culture</td>\n",
              "    </tr>\n",
              "    <tr>\n",
              "      <th>3</th>\n",
              "      <td>222694</td>\n",
              "      <td>0.0</td>\n",
              "      <td>54.272</td>\n",
              "      <td>/Culex/sounds/0004_norm.wav</td>\n",
              "      <td>0004_norm.wav</td>\n",
              "      <td>8000</td>\n",
              "      <td>background</td>\n",
              "      <td>NaN</td>\n",
              "      <td>NaN</td>\n",
              "      <td>NaN</td>\n",
              "      <td>NaN</td>\n",
              "      <td>NaN</td>\n",
              "      <td>NaN</td>\n",
              "      <td>phone</td>\n",
              "      <td>Alcatel</td>\n",
              "      <td>UK</td>\n",
              "      <td>Oxfordshire</td>\n",
              "      <td>NaN</td>\n",
              "      <td>Oxford Zoology</td>\n",
              "      <td>culture</td>\n",
              "    </tr>\n",
              "    <tr>\n",
              "      <th>4</th>\n",
              "      <td>222695</td>\n",
              "      <td>0.0</td>\n",
              "      <td>54.272</td>\n",
              "      <td>/Culex/sounds/0005_norm.wav</td>\n",
              "      <td>0005_norm.wav</td>\n",
              "      <td>8000</td>\n",
              "      <td>background</td>\n",
              "      <td>NaN</td>\n",
              "      <td>NaN</td>\n",
              "      <td>NaN</td>\n",
              "      <td>NaN</td>\n",
              "      <td>NaN</td>\n",
              "      <td>NaN</td>\n",
              "      <td>phone</td>\n",
              "      <td>Alcatel</td>\n",
              "      <td>UK</td>\n",
              "      <td>Oxfordshire</td>\n",
              "      <td>NaN</td>\n",
              "      <td>Oxford Zoology</td>\n",
              "      <td>culture</td>\n",
              "    </tr>\n",
              "  </tbody>\n",
              "</table>\n",
              "</div>\n",
              "      <button class=\"colab-df-convert\" onclick=\"convertToInteractive('df-141cc34a-bc17-4fc9-af75-c856c111e75d')\"\n",
              "              title=\"Convert this dataframe to an interactive table.\"\n",
              "              style=\"display:none;\">\n",
              "        \n",
              "  <svg xmlns=\"http://www.w3.org/2000/svg\" height=\"24px\"viewBox=\"0 0 24 24\"\n",
              "       width=\"24px\">\n",
              "    <path d=\"M0 0h24v24H0V0z\" fill=\"none\"/>\n",
              "    <path d=\"M18.56 5.44l.94 2.06.94-2.06 2.06-.94-2.06-.94-.94-2.06-.94 2.06-2.06.94zm-11 1L8.5 8.5l.94-2.06 2.06-.94-2.06-.94L8.5 2.5l-.94 2.06-2.06.94zm10 10l.94 2.06.94-2.06 2.06-.94-2.06-.94-.94-2.06-.94 2.06-2.06.94z\"/><path d=\"M17.41 7.96l-1.37-1.37c-.4-.4-.92-.59-1.43-.59-.52 0-1.04.2-1.43.59L10.3 9.45l-7.72 7.72c-.78.78-.78 2.05 0 2.83L4 21.41c.39.39.9.59 1.41.59.51 0 1.02-.2 1.41-.59l7.78-7.78 2.81-2.81c.8-.78.8-2.07 0-2.86zM5.41 20L4 18.59l7.72-7.72 1.47 1.35L5.41 20z\"/>\n",
              "  </svg>\n",
              "      </button>\n",
              "      \n",
              "  <style>\n",
              "    .colab-df-container {\n",
              "      display:flex;\n",
              "      flex-wrap:wrap;\n",
              "      gap: 12px;\n",
              "    }\n",
              "\n",
              "    .colab-df-convert {\n",
              "      background-color: #E8F0FE;\n",
              "      border: none;\n",
              "      border-radius: 50%;\n",
              "      cursor: pointer;\n",
              "      display: none;\n",
              "      fill: #1967D2;\n",
              "      height: 32px;\n",
              "      padding: 0 0 0 0;\n",
              "      width: 32px;\n",
              "    }\n",
              "\n",
              "    .colab-df-convert:hover {\n",
              "      background-color: #E2EBFA;\n",
              "      box-shadow: 0px 1px 2px rgba(60, 64, 67, 0.3), 0px 1px 3px 1px rgba(60, 64, 67, 0.15);\n",
              "      fill: #174EA6;\n",
              "    }\n",
              "\n",
              "    [theme=dark] .colab-df-convert {\n",
              "      background-color: #3B4455;\n",
              "      fill: #D2E3FC;\n",
              "    }\n",
              "\n",
              "    [theme=dark] .colab-df-convert:hover {\n",
              "      background-color: #434B5C;\n",
              "      box-shadow: 0px 1px 3px 1px rgba(0, 0, 0, 0.15);\n",
              "      filter: drop-shadow(0px 1px 2px rgba(0, 0, 0, 0.3));\n",
              "      fill: #FFFFFF;\n",
              "    }\n",
              "  </style>\n",
              "\n",
              "      <script>\n",
              "        const buttonEl =\n",
              "          document.querySelector('#df-141cc34a-bc17-4fc9-af75-c856c111e75d button.colab-df-convert');\n",
              "        buttonEl.style.display =\n",
              "          google.colab.kernel.accessAllowed ? 'block' : 'none';\n",
              "\n",
              "        async function convertToInteractive(key) {\n",
              "          const element = document.querySelector('#df-141cc34a-bc17-4fc9-af75-c856c111e75d');\n",
              "          const dataTable =\n",
              "            await google.colab.kernel.invokeFunction('convertToInteractive',\n",
              "                                                     [key], {});\n",
              "          if (!dataTable) return;\n",
              "\n",
              "          const docLinkHtml = 'Like what you see? Visit the ' +\n",
              "            '<a target=\"_blank\" href=https://colab.research.google.com/notebooks/data_table.ipynb>data table notebook</a>'\n",
              "            + ' to learn more about interactive tables.';\n",
              "          element.innerHTML = '';\n",
              "          dataTable['output_type'] = 'display_data';\n",
              "          await google.colab.output.renderOutput(dataTable, element);\n",
              "          const docLink = document.createElement('div');\n",
              "          docLink.innerHTML = docLinkHtml;\n",
              "          element.appendChild(docLink);\n",
              "        }\n",
              "      </script>\n",
              "    </div>\n",
              "  </div>\n",
              "  "
            ]
          },
          "metadata": {},
          "execution_count": 11
        }
      ]
    },
    {
      "cell_type": "markdown",
      "source": [
        "## 2. Dataset creation\n",
        "### Train/test definition"
      ],
      "metadata": {
        "id": "c8DOka7jlD8J"
      }
    },
    {
      "cell_type": "code",
      "source": [
        "train_list = []\n",
        "test_list = []\n",
        "\n",
        "for i in os.listdir('data/'):\n",
        "  if i.endswith('.wav'): # Iterate over '.wav' files only\n",
        "    if int(i[:4]) > 40:  # Reserve 17/57 recordings for testing\n",
        "      test_list.append(i)\n",
        "    else:\n",
        "      train_list.append(i)"
      ],
      "metadata": {
        "id": "6m131zSinK94"
      },
      "execution_count": null,
      "outputs": []
    },
    {
      "cell_type": "markdown",
      "source": [
        "## 3. Data feature extraction and pre-processing\n",
        "\n",
        "\n",
        "### Feature generation\n",
        "In general, features extracted will vary from domain to domain, and we could opt to go for highly hand-crafted descriptors or let our inference models learn their own representations entirely. Current SOTA performance tends to use something in between, though this is highly dependent on the domain\n",
        "\n",
        "For creating features we have several options to explore with audio:\n",
        "\n",
        "\n",
        "1.   Learn hierarchical feature representations with neural networks from:\n",
        "  1. Raw audio waveform\n",
        "  2. Intermediate feature representations\n",
        "\n",
        "2. Extract descriptive features. In audio these could be MFCCs -- a bandpass of non-linearly spaced frequency features, based on the mel-scale (melodic scale), where humans perceive each band as evenly spaced in blab bla bla [CITE + CORRECT]. There are many features we could go for, such as zero crossing rate, spectral power, fluctuations in xyz - for a complete list you could refer to OpenSMILE. \n",
        "\n",
        "2.   List item\n",
        "\n",
        "\n",
        "2.   List item\n",
        "\n",
        "\n",
        "\n",
        "\n",
        "We now have the raw data accessible as files for train and for test, and corresponding label information in `csv` format. We now need to map this data into a form that can be used to perform computations with scikit-learn"
      ],
      "metadata": {
        "id": "lY_xikbIpPJ4"
      }
    },
    {
      "cell_type": "code",
      "source": [
        "import librosa"
      ],
      "metadata": {
        "id": "mI4i_ctrGW6u"
      },
      "execution_count": null,
      "outputs": []
    },
    {
      "cell_type": "code",
      "source": [
        "def get_feat(data_list):\n",
        "\n",
        "  label_list = []  # Initialise empty label list\n",
        "  feature_list = [] # Initialise empty signal list\n",
        "\n",
        "  for i in data_list:  # Iterate through each file in list\n",
        "\n",
        "    # Extract corresponding label(s) in dataframe\n",
        "    df_match = df[df.name == i]\n",
        "\n",
        "    for idx, row in df_match.iterrows():\n",
        "      print(i, row.fine_end_time, row.fine_start_time, row.sound_type)\n",
        "      # Load the audio sections marked with a specific label\n",
        "      signal, sr = librosa.load(os.path.join('data', i), sr=None, offset=row.fine_start_time,\n",
        "                          duration=row.fine_end_time-row.fine_start_time)\n",
        "      ### Extract features here:\n",
        "\n",
        "      # For this example we will use default settings of MFCC features:\n",
        "      x = librosa.feature.mfcc(y=signal, sr=sr, n_mfcc=20)\n",
        "\n",
        "      feature_list.append(x)\n",
        "\n",
        "      if row.sound_type == 'mosquito':\n",
        "        label_list.append(np.ones(np.shape(x)[1]))\n",
        "      elif row.sound_type == 'background':\n",
        "        label_list.append(np.zeros(np.shape(x)[1]))\n",
        "      else:\n",
        "        print('Warning: label not recognised.')\n",
        "\n",
        "  # We now have two lists of equal length (L), determined by the number of labels\n",
        "  # in the dataframe. Each element of the signal_list will be \n",
        "  # of the length equal to the number of feature windows N_f\n",
        "\n",
        "  print('Length of label and signal lists:', len(label_list), len(feature_list))\n",
        "\n",
        "\n",
        "  X = np.hstack(feature_list).T # Transpose required for shape for sklearn\n",
        "  y = np.hstack(label_list)\n",
        "\n",
        "  print('X shape, y shape', np.shape(X), np.shape(y))\n",
        "  return X, y"
      ],
      "metadata": {
        "id": "zzZig3-3yb9Z"
      },
      "execution_count": null,
      "outputs": []
    },
    {
      "cell_type": "code",
      "source": [
        "X_train, y_train = get_feat(train_list)"
      ],
      "metadata": {
        "id": "MJEjGGjjYSNr",
        "outputId": "dbd13ced-7c24-48d4-cb0d-6ae95fa43ca9",
        "colab": {
          "base_uri": "https://localhost:8080/"
        }
      },
      "execution_count": 66,
      "outputs": [
        {
          "output_type": "stream",
          "name": "stdout",
          "text": [
            "0003_norm.wav 54.272 0.0 background\n",
            "0020_norm.wav 54.272 0.0 background\n",
            "0030_norm.wav 37.6 22.2 mosquito\n",
            "0030_norm.wav 54.272 52.7 background\n",
            "0030_norm.wav 21.8 12.6 mosquito\n",
            "0030_norm.wav 12.6 0.0 background\n",
            "0030_norm.wav 22.2 21.8 background\n",
            "0030_norm.wav 38.9 37.6 background\n",
            "0030_norm.wav 52.7 50.7 mosquito\n",
            "0030_norm.wav 43.3 38.9 mosquito\n",
            "0030_norm.wav 50.7 43.3 background\n",
            "0025_norm.wav 10.24 0.0 background\n",
            "0039_norm.wav 5.3 0.0 mosquito\n",
            "0039_norm.wav 54.272 46.7 mosquito\n",
            "0039_norm.wav 46.7 5.3 background\n",
            "0017_norm.wav 54.272 0.0 background\n",
            "0012_norm.wav 54.272 0.0 background\n",
            "0016_norm.wav 54.272 0.0 background\n",
            "0002_norm.wav 54.272 0.0 background\n",
            "0021_norm.wav 0.9 0.0 background\n",
            "0021_norm.wav 45.7 32.7 background\n",
            "0021_norm.wav 59.392 45.7 mosquito\n",
            "0021_norm.wav 32.7 0.9 mosquito\n",
            "0001_norm.wav 53.76 0.0 background\n",
            "0004_norm.wav 54.272 0.0 background\n",
            "0014_norm.wav 54.272 0.0 background\n",
            "0034_norm.wav 51.3 43.5 mosquito\n",
            "0034_norm.wav 3.7 0.0 mosquito\n",
            "0034_norm.wav 54.272 51.3 background\n",
            "0034_norm.wav 27.7 3.7 background\n",
            "0034_norm.wav 31.9 29.3 mosquito\n",
            "0034_norm.wav 43.5 38.3 mosquito\n",
            "0034_norm.wav 38.3 31.9 mosquito\n",
            "0034_norm.wav 29.3 27.7 mosquito\n",
            "0006_norm.wav 54.272 0.0 background\n",
            "0018_norm.wav 54.272 0.0 background\n",
            "0038_norm.wav 54.272 0.0 mosquito\n",
            "0009_norm.wav 54.272 0.0 background\n",
            "0010_norm.wav 54.272 0.0 background\n",
            "0027_norm.wav 2.1 0.3 mosquito\n",
            "0027_norm.wav 0.3 0.0 background\n",
            "0027_norm.wav 2.5 2.1 background\n",
            "0027_norm.wav 31.9 30.9 mosquito\n",
            "0027_norm.wav 30.9 30.5 background\n",
            "0027_norm.wav 54.272 31.9 background\n",
            "0027_norm.wav 30.5 2.5 mosquito\n",
            "0040_norm.wav 53.5 0.0 mosquito\n",
            "0036_norm.wav 27.8 20.7 background\n",
            "0036_norm.wav 20.7 0.0 mosquito\n",
            "0036_norm.wav 54.272 27.8 mosquito\n",
            "0037_norm.wav 10.8 1.8 background\n",
            "0037_norm.wav 48.5 20.0 background\n",
            "0037_norm.wav 54.272 48.5 mosquito\n",
            "0037_norm.wav 1.8 0.0 mosquito\n",
            "0037_norm.wav 20.0 10.8 mosquito\n",
            "0005_norm.wav 54.272 0.0 background\n",
            "0028_norm.wav 29.9 16.6 mosquito\n",
            "0028_norm.wav 33.8 30.8 mosquito\n",
            "0028_norm.wav 16.6 15.8 background\n",
            "0028_norm.wav 9.4 0.0 background\n",
            "0028_norm.wav 54.272 34.8 mosquito\n",
            "0028_norm.wav 34.8 33.8 background\n",
            "0028_norm.wav 15.8 9.4 mosquito\n",
            "0028_norm.wav 30.8 29.9 background\n",
            "0026_norm.wav 28.7 27.1 background\n",
            "0026_norm.wav 43.9 28.7 mosquito\n",
            "0026_norm.wav 27.1 0.0 mosquito\n",
            "0026_norm.wav 59.648 45.5 mosquito\n",
            "0026_norm.wav 45.5 43.9 background\n",
            "0011_norm.wav 54.272 0.0 background\n",
            "0031_norm.wav 17.6 0.0 background\n",
            "0031_norm.wav 28.4 17.6 mosquito\n",
            "0031_norm.wav 54.272 28.4 background\n",
            "0029_norm.wav 54.272 34.0 background\n",
            "0029_norm.wav 34.0 32.2 mosquito\n",
            "0029_norm.wav 26.7 0.0 mosquito\n",
            "0029_norm.wav 32.2 26.7 background\n",
            "0033_norm.wav 36.7 28.2 mosquito\n",
            "0033_norm.wav 28.2 0.0 background\n",
            "0033_norm.wav 47.1 36.7 background\n",
            "0033_norm.wav 50.2 48.9 background\n",
            "0033_norm.wav 53.5 50.2 mosquito\n",
            "0033_norm.wav 48.9 47.1 mosquito\n",
            "0022_norm.wav 5.0 0.0 mosquito\n",
            "0022_norm.wav 25.3 13.1 mosquito\n",
            "0022_norm.wav 54.272 25.3 background\n",
            "0022_norm.wav 13.1 5.0 background\n",
            "0008_norm.wav 54.272 0.0 background\n",
            "0015_norm.wav 54.272 0.0 background\n",
            "0024_norm.wav 19.1 18.5 background\n",
            "0024_norm.wav 26.8 26.2 background\n",
            "0024_norm.wav 31.9 30.4 background\n",
            "0024_norm.wav 38.4 35.7 background\n",
            "0024_norm.wav 54.2 41.6 mosquito\n",
            "0024_norm.wav 10.6 0.0 mosquito\n",
            "0024_norm.wav 18.5 11.3 mosquito\n",
            "0024_norm.wav 21.0 19.1 mosquito\n",
            "0024_norm.wav 26.2 22.0 mosquito\n",
            "0024_norm.wav 30.4 26.8 mosquito\n",
            "0024_norm.wav 35.7 31.9 mosquito\n",
            "0024_norm.wav 40.9 38.4 mosquito\n",
            "0024_norm.wav 41.6 40.9 background\n",
            "0024_norm.wav 11.3 10.6 background\n",
            "0024_norm.wav 22.0 21.0 background\n",
            "0035_norm.wav 2.6 0.0 background\n",
            "0035_norm.wav 16.0 2.6 mosquito\n",
            "0035_norm.wav 54.272 17.4 mosquito\n",
            "0035_norm.wav 17.4 16.0 background\n",
            "0019_norm.wav 54.272 0.0 background\n",
            "0013_norm.wav 54.272 0.0 background\n",
            "0007_norm.wav 54.272 0.0 background\n",
            "0032_norm.wav 31.1 9.3 background\n",
            "0032_norm.wav 9.3 6.4 mosquito\n",
            "0032_norm.wav 44.4 31.1 mosquito\n",
            "0032_norm.wav 46.0 45.4 mosquito\n",
            "0032_norm.wav 6.4 0.0 background\n",
            "0032_norm.wav 45.4 44.4 background\n",
            "0032_norm.wav 54.272 46.0 background\n",
            "0023_norm.wav 25.5 11.7 mosquito\n",
            "0023_norm.wav 48.5 30.5 mosquito\n",
            "0023_norm.wav 54.2 49.0 mosquito\n",
            "0023_norm.wav 1.0 0.0 background\n",
            "0023_norm.wav 11.7 6.6 background\n",
            "0023_norm.wav 30.5 25.5 background\n",
            "0023_norm.wav 49.0 48.5 background\n",
            "0023_norm.wav 6.6 1.0 mosquito\n",
            "Length of label and signal lists: 126 126\n",
            "X shape, y shape (33436, 20) (33436,)\n"
          ]
        }
      ]
    },
    {
      "cell_type": "code",
      "source": [
        "X_test, y_test = get_feat(test_list)"
      ],
      "metadata": {
        "id": "NAVUznWRKCQ3",
        "outputId": "adf2d5c7-153c-4d89-89f9-a4d284cc629b",
        "colab": {
          "base_uri": "https://localhost:8080/"
        }
      },
      "execution_count": 67,
      "outputs": [
        {
          "output_type": "stream",
          "name": "stdout",
          "text": [
            "0053_norm.wav 46.3 0.0 mosquito\n",
            "0043_norm.wav 54.272 0.0 background\n",
            "0044_norm.wav 16.64 0.0 background\n",
            "0049_norm.wav 47.1 0.0 background\n",
            "0049_norm.wav 54.2 47.1 mosquito\n",
            "0057_norm.wav 39.68 1.9 background\n",
            "0057_norm.wav 0.5 0.0 background\n",
            "0057_norm.wav 1.9 0.5 mosquito\n",
            "0050_norm.wav 26.4 9.7 background\n",
            "0050_norm.wav 41.4 33.6 background\n",
            "0050_norm.wav 54.2 41.4 mosquito\n",
            "0050_norm.wav 33.6 26.4 mosquito\n",
            "0050_norm.wav 9.7 0.0 mosquito\n",
            "0045_norm.wav 59.6 14.5 mosquito\n",
            "0045_norm.wav 14.5 0.0 background\n",
            "0054_norm.wav 54.272 0.0 background\n",
            "0055_norm.wav 24.511 20.9 mosquito\n",
            "0055_norm.wav 44.5 35.2 mosquito\n",
            "0042_norm.wav 59.648 0.0 background\n",
            "0041_norm.wav 58.112 0.0 background\n",
            "0051_norm.wav 53.4 31.1 mosquito\n",
            "0051_norm.wav 8.0 0.0 mosquito\n",
            "0051_norm.wav 13.2 12.0 mosquito\n",
            "0052_norm.wav 33.8 27.6 mosquito\n",
            "0052_norm.wav 54.272 33.8 background\n",
            "0052_norm.wav 27.6 0.0 background\n",
            "0056_norm.wav 24.832 20.0 background\n",
            "0056_norm.wav 19.9 0.0 mosquito\n",
            "0048_norm.wav 54.2 0.1 mosquito\n",
            "0046_norm.wav 54.272 0.0 background\n",
            "0047_norm.wav 54.272 0.0 background\n",
            "Length of label and signal lists: 31 31\n",
            "X shape, y shape (12251, 20) (12251,)\n"
          ]
        }
      ]
    },
    {
      "cell_type": "markdown",
      "source": [
        "### Pre-processing\n",
        "\n",
        "Pre-process by removing the mean and standard deviation. We will store the results in xyz to then apply to the test data. Note that there are several schemes for normalisation:\n",
        "\n",
        "* Normalise per sample/recording. This is similar to how images will be normalised by their intensity relative to only themselves\n",
        "* As above, but normalise in batches [read more about this]\n",
        "* Use the entire dataset to remove offset statistics such as the mean, and standardise the variance. When predicting over test data, we perform the same transform to the test data.\n",
        "\n",
        "There is no universal or accepted method of normalising audio data, as there are benefits and drawbacks to each. You may experiment with different schemes. However, it is important to consider that some ML algorithms are expected to operate in a certain range, and require re-scaling to appropriate units. An example of this is the SVM because XYZ\n"
      ],
      "metadata": {
        "id": "ouXbWRuelt1m"
      }
    },
    {
      "cell_type": "code",
      "source": [
        "np.shape(X_train)"
      ],
      "metadata": {
        "colab": {
          "base_uri": "https://localhost:8080/"
        },
        "id": "8ivveueJuDnK",
        "outputId": "a1c509b3-a60b-4744-cab8-ed02d3e5b906"
      },
      "execution_count": 54,
      "outputs": [
        {
          "output_type": "execute_result",
          "data": {
            "text/plain": [
              "(33436, 20)"
            ]
          },
          "metadata": {},
          "execution_count": 54
        }
      ]
    },
    {
      "cell_type": "code",
      "source": [
        "plt.figure(figsize=(10,10))\n",
        "plt.imshow(X_train[:100,:].T)"
      ],
      "metadata": {
        "colab": {
          "base_uri": "https://localhost:8080/",
          "height": 179
        },
        "id": "l1FyWiVet-U6",
        "outputId": "3fc7e891-affd-4130-c398-b282c94f8f47"
      },
      "execution_count": 68,
      "outputs": [
        {
          "output_type": "execute_result",
          "data": {
            "text/plain": [
              "<matplotlib.image.AxesImage at 0x7fe08a266c50>"
            ]
          },
          "metadata": {},
          "execution_count": 68
        },
        {
          "output_type": "display_data",
          "data": {
            "text/plain": [
              "<Figure size 720x720 with 1 Axes>"
            ],
            "image/png": "[encoded data removed]"
          },
          "metadata": {
            "needs_background": "light"
          }
        }
      ]
    },
    {
      "cell_type": "code",
      "source": [
        "# X_train = X_train[:,3:]"
      ],
      "metadata": {
        "id": "v5i0aAzgt83K"
      },
      "execution_count": 56,
      "outputs": []
    },
    {
      "cell_type": "code",
      "source": [
        "# X_test = X_test[:,3:]"
      ],
      "metadata": {
        "id": "hQ1UwL52uouL"
      },
      "execution_count": 57,
      "outputs": []
    },
    {
      "cell_type": "code",
      "source": [
        "normalise = True\n",
        "\n",
        "mean = np.mean(X_train)\n",
        "std = np.std(X_train)\n",
        "\n",
        "if normalise:\n",
        "  X_train_norm = (X_train - mean)/std"
      ],
      "metadata": {
        "id": "VrRFQC-xd0Pj"
      },
      "execution_count": 69,
      "outputs": []
    },
    {
      "cell_type": "markdown",
      "source": [
        "## 4. Model instantiation and prediction"
      ],
      "metadata": {
        "id": "LGgevv5n129D"
      }
    },
    {
      "cell_type": "code",
      "source": [
        "from sklearn import svm\n",
        "from sklearn.ensemble import RandomForestClassifier\n",
        "from sklearn.naive_bayes import GaussianNB\n",
        "\n",
        "\n",
        "clf = svm.SVC()\n",
        "# clf = RandomForestClassifier(max_depth=5, random_state=0)\n",
        "# clf = GaussianNB()\n",
        "\n",
        "if normalise:\n",
        "  clf.fit(X_train_norm, y_train)  # transform array X to required format\n",
        "else:\n",
        "  clf.fit(X_train, y_train)"
      ],
      "metadata": {
        "id": "PN--gzeIJ12Y"
      },
      "execution_count": 71,
      "outputs": []
    },
    {
      "cell_type": "code",
      "source": [
        "if normalise:\n",
        "  y_pred = clf.predict((X_test - mean)/std) # Predict over normalised data\n",
        "else:\n",
        "  y_pred = clf.predict(X_test) # Predict over un-normalised data"
      ],
      "metadata": {
        "id": "0LeBJmRlU6ON"
      },
      "execution_count": 72,
      "outputs": []
    },
    {
      "cell_type": "markdown",
      "source": [
        "## 5. Model performance\n",
        "### A re-cap from day 1:\n",
        "\n",
        "\n",
        "*   List item\n",
        "*   List item\n",
        "\n",
        "To also note: be careful with accuracy scores: in the presence of a class imbalance such as here (see the support of each class, 8272 of class 0 and 3979 of class 1), a high accuracy can be achieved by a model which simply predicts 0. This however would be reflected in very poor precision and recall scores for that class from the classification report.\n",
        "\n",
        "Note that in this problem, we have extracted feature windows of a certain width, determined by xxx, which means that our performance figures here are given as performance per unit of time of each feature window."
      ],
      "metadata": {
        "id": "rT2lPyo1myJC"
      }
    },
    {
      "cell_type": "code",
      "source": [
        "from sklearn.metrics import classification_report\n",
        "from sklearn.metrics import accuracy_score\n",
        "from sklearn.metrics import ConfusionMatrixDisplay, PrecisionRecallDisplay\n",
        "import matplotlib.pyplot as plt\n",
        "\n",
        "print('Accuracy score', accuracy_score(y_test, y_pred))\n",
        "print(classification_report(y_test, y_pred, target_names=['non-mosquito', 'mosquito']))\n",
        "\n",
        "ConfusionMatrixDisplay.from_predictions(y_test, y_pred, display_labels=['non-mozz','mozz'])\n",
        "\n",
        "plt.show()\n",
        "\n",
        "display = PrecisionRecallDisplay.from_predictions(y_test, y_pred, name=\"Classifier\")\n",
        "_ = display.ax_.set_title(\"2-class Precision-Recall curve\")"
      ],
      "metadata": {
        "id": "OCwaSwt_dOoW",
        "outputId": "1c0ff1f1-388f-4e6f-852b-1f77b11fa929",
        "colab": {
          "base_uri": "https://localhost:8080/",
          "height": 742
        }
      },
      "execution_count": 73,
      "outputs": [
        {
          "output_type": "stream",
          "name": "stdout",
          "text": [
            "Accuracy score 0.6253367072075748\n",
            "              precision    recall  f1-score   support\n",
            "\n",
            "non-mosquito       0.80      0.60      0.68      8272\n",
            "    mosquito       0.45      0.68      0.54      3979\n",
            "\n",
            "    accuracy                           0.63     12251\n",
            "   macro avg       0.62      0.64      0.61     12251\n",
            "weighted avg       0.68      0.63      0.64     12251\n",
            "\n"
          ]
        },
        {
          "output_type": "display_data",
          "data": {
            "text/plain": [
              "<Figure size 432x288 with 2 Axes>"
            ],
            "image/png": "[encoded data removed]"
          },
          "metadata": {
            "needs_background": "light"
          }
        },
        {
          "output_type": "display_data",
          "data": {
            "text/plain": [
              "<Figure size 432x288 with 1 Axes>"
            ],
            "image/png": "[encoded data removed]"
          },
          "metadata": {
            "needs_background": "light"
          }
        }
      ]
    }
  ]
}