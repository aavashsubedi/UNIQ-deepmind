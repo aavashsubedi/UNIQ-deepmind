{
  "nbformat": 4,
  "nbformat_minor": 0,
  "metadata": {
    "colab": {
      "name": "UNIQ_scikit-learn_pt_2.ipynb",
      "provenance": []
    },
    "kernelspec": {
      "name": "python3",
      "display_name": "Python 3"
    },
    "language_info": {
      "name": "python"
    }
  },
  "cells": [
    {
      "cell_type": "markdown",
      "source": [
        "# Introducing Scikit-Learn (ii)"
      ],
      "metadata": {
        "id": "LPrtgV2gu2QM"
      }
    },
    {
      "cell_type": "markdown",
      "source": [
        "Having completed a basic overview, we will now use Scikit-Learn to visualise  a few fundamental concepts in machine learning. These will include:\n",
        "* Bias-variance trade-off\n",
        "* Something else\n",
        "\n",
        "Thereafter, we will move to a real-world example to give you the opportunity to conduct a mock data science problem yourself. There is no expectation on any particular scores your models might achieve, the only goal is that you get a feel for how one might approach an ML problem, and what tools exist to score your model."
      ],
      "metadata": {
        "id": "A_XNU6VFvHOP"
      }
    },
    {
      "cell_type": "markdown",
      "source": [
        "### Bias-variance tradeoff"
      ],
      "metadata": {
        "id": "og9HvadR08Rm"
      }
    },
    {
      "cell_type": "code",
      "source": [
        "..."
      ],
      "metadata": {
        "id": "QmsnbqMz0_tc"
      },
      "execution_count": null,
      "outputs": []
    },
    {
      "cell_type": "markdown",
      "source": [
        "### Scoring functions\n",
        "\n",
        "\n",
        "*   Precision-Recall curves\n",
        "*   Receiver operating characteristic curves\n",
        "*   Confusion matrices\n",
        "\n"
      ],
      "metadata": {
        "id": "WzGIHBDCr6zN"
      }
    },
    {
      "cell_type": "markdown",
      "source": [
        "## Example real-world problem"
      ],
      "metadata": {
        "id": "5RWbK5Fu1Bag"
      }
    },
    {
      "cell_type": "markdown",
      "source": [
        "Machine learning is prevelant in today's scientific landscape, with applications spanning Biomedical engineering, astrostatistics, finance, the entertainment industry, and countless other disciplines. \n",
        "\n",
        "In this tutorial we will consider how one might use ML to classify acoustics into categories. This type of analysis involves:\n",
        "\n",
        "\n",
        "\n",
        "1.   Data collection and pre-processing\n",
        "2.   Feature generation\n",
        "3.   Model selection\n",
        "4.   Model training\n",
        "5.   Analysing model performance\n",
        "\n",
        "You will find in practice that the key to unlocking good predictive insights is the quality and quantity of data used. We will however not make this the focal point, and assume the data is clean within reason.\n",
        "\n",
        "If you are interested in common difficulties encountered with data processing, please refer to [XYZ]\n",
        "\n"
      ],
      "metadata": {
        "id": "P0N8pgRI3ikP"
      }
    },
    {
      "cell_type": "markdown",
      "source": [
        "### Problem definition\n",
        "#### Mosquito acoustic detection: can we use machine learning to detect mosquitoes from the sound of their acoustic wingbeat?\n",
        "\n",
        "Mosquitoes are responsible over xyz yyz [cite]. As a byproduct of their behaviour patterns, they produce a characteristic buzz from their flight, mating calls, and other etc... The idea is to leverage this sound with cheap sensors (acoustic smartphone sensors in an IoT network) to be able to estimate the prevelance of mosquitoes in a particular area. To do this, we need algorithms capable of distinguishing the buzz of mosquito from its surroundings. In this challenge we will show how it is possible to use Scikit-learn to build a basic classifier to achieve this."
      ],
      "metadata": {
        "id": "Rc6fC_-F3WqH"
      }
    },
    {
      "cell_type": "markdown",
      "source": [
        "### 1. Data collection and pre-processing\n",
        "\n",
        "By default, opening colab will place you in the following directory:"
      ],
      "metadata": {
        "id": "j9MLBeU8p7Vr"
      }
    },
    {
      "cell_type": "code",
      "source": [
        "import os\n",
        "os.getcwd()"
      ],
      "metadata": {
        "id": "VHg9bjC4ij54",
        "outputId": "deb2491e-85c8-4796-cc28-4b6d982f0c1c",
        "colab": {
          "base_uri": "https://localhost:8080/",
          "height": 36
        }
      },
      "execution_count": 18,
      "outputs": [
        {
          "output_type": "execute_result",
          "data": {
            "text/plain": [
              "'/content'"
            ],
            "application/vnd.google.colaboratory.intrinsic+json": {
              "type": "string"
            }
          },
          "metadata": {},
          "execution_count": 18
        }
      ]
    },
    {
      "cell_type": "markdown",
      "source": [
        "We can now donwload the dataset of interest from the repository with `wget` and unzip to the subfolder `data`. The `!` before the command is used to run operating system commands directly in the notebook cell (in this case, which ever Linux OS the colab machines are using)."
      ],
      "metadata": {
        "id": "iFSHA-ill75A"
      }
    },
    {
      "cell_type": "code",
      "source": [
        "!wget https://github.com/ikiskin/UNIQ-deepmind/raw/master/data/CulexMozzSounds.zip\n",
        "!unzip /content/CulexMozzSounds.zip -d /content/data/"
      ],
      "metadata": {
        "id": "UC9Zik-FoFFQ",
        "outputId": "9a650c82-8a0f-4e4a-85cc-12da55f67a3d",
        "colab": {
          "base_uri": "https://localhost:8080/"
        }
      },
      "execution_count": 23,
      "outputs": [
        {
          "output_type": "stream",
          "name": "stdout",
          "text": [
            "--2022-06-29 17:58:43--  https://github.com/ikiskin/UNIQ-deepmind/raw/master/data/CulexMozzSounds.zip\n",
            "Resolving github.com (github.com)... 140.82.114.3\n",
            "Connecting to github.com (github.com)|140.82.114.3|:443... connected.\n",
            "HTTP request sent, awaiting response... 302 Found\n",
            "Location: https://raw.githubusercontent.com/ikiskin/UNIQ-deepmind/master/data/CulexMozzSounds.zip [following]\n",
            "--2022-06-29 17:58:43--  https://raw.githubusercontent.com/ikiskin/UNIQ-deepmind/master/data/CulexMozzSounds.zip\n",
            "Resolving raw.githubusercontent.com (raw.githubusercontent.com)... 185.199.108.133, 185.199.109.133, 185.199.110.133, ...\n",
            "Connecting to raw.githubusercontent.com (raw.githubusercontent.com)|185.199.108.133|:443... connected.\n",
            "HTTP request sent, awaiting response... 200 OK\n",
            "Length: 28644396 (27M) [application/zip]\n",
            "Saving to: ‘CulexMozzSounds.zip’\n",
            "\n",
            "CulexMozzSounds.zip 100%[===================>]  27.32M   157MB/s    in 0.2s    \n",
            "\n",
            "2022-06-29 17:58:43 (157 MB/s) - ‘CulexMozzSounds.zip’ saved [28644396/28644396]\n",
            "\n",
            "Archive:  /content/CulexMozzSounds.zip\n",
            "  inflating: /content/data/0001_norm.wav  \n",
            "  inflating: /content/data/0002_norm.wav  \n",
            "  inflating: /content/data/0003_norm.wav  \n",
            "  inflating: /content/data/0004_norm.wav  \n",
            "  inflating: /content/data/0005_norm.wav  \n",
            "  inflating: /content/data/0006_norm.wav  \n",
            "  inflating: /content/data/0007_norm.wav  \n",
            "  inflating: /content/data/0008_norm.wav  \n",
            "  inflating: /content/data/0009_norm.wav  \n",
            "  inflating: /content/data/0010_norm.wav  \n",
            "  inflating: /content/data/0011_norm.wav  \n",
            "  inflating: /content/data/0012_norm.wav  \n",
            "  inflating: /content/data/0013_norm.wav  \n",
            "  inflating: /content/data/0014_norm.wav  \n",
            "  inflating: /content/data/0015_norm.wav  \n",
            "  inflating: /content/data/0016_norm.wav  \n",
            "  inflating: /content/data/0017_norm.wav  \n",
            "  inflating: /content/data/0018_norm.wav  \n",
            "  inflating: /content/data/0019_norm.wav  \n",
            "  inflating: /content/data/0020_norm.wav  \n",
            "  inflating: /content/data/0021_norm.wav  \n",
            "  inflating: /content/data/0022_norm.wav  \n",
            "  inflating: /content/data/0023_norm.wav  \n",
            "  inflating: /content/data/0024_norm.wav  \n",
            "  inflating: /content/data/0025_norm.wav  \n",
            "  inflating: /content/data/0026_norm.wav  \n",
            "  inflating: /content/data/0027_norm.wav  \n",
            "  inflating: /content/data/0028_norm.wav  \n",
            "  inflating: /content/data/0029_norm.wav  \n",
            "  inflating: /content/data/0030_norm.wav  \n",
            "  inflating: /content/data/0031_norm.wav  \n",
            "  inflating: /content/data/0032_norm.wav  \n",
            "  inflating: /content/data/0033_norm.wav  \n",
            "  inflating: /content/data/0034_norm.wav  \n",
            "  inflating: /content/data/0035_norm.wav  \n",
            "  inflating: /content/data/0036_norm.wav  \n",
            "  inflating: /content/data/0037_norm.wav  \n",
            "  inflating: /content/data/0038_norm.wav  \n",
            "  inflating: /content/data/0039_norm.wav  \n",
            "  inflating: /content/data/0040_norm.wav  \n",
            "  inflating: /content/data/0041_norm.wav  \n",
            "  inflating: /content/data/0042_norm.wav  \n",
            "  inflating: /content/data/0043_norm.wav  \n",
            "  inflating: /content/data/0044_norm.wav  \n",
            "  inflating: /content/data/0045_norm.wav  \n",
            "  inflating: /content/data/0046_norm.wav  \n",
            "  inflating: /content/data/0047_norm.wav  \n",
            "  inflating: /content/data/0048_norm.wav  \n",
            "  inflating: /content/data/0049_norm.wav  \n",
            "  inflating: /content/data/0050_norm.wav  \n",
            "  inflating: /content/data/0051_norm.wav  \n",
            "  inflating: /content/data/0052_norm.wav  \n",
            "  inflating: /content/data/0053_norm.wav  \n",
            "  inflating: /content/data/0054_norm.wav  \n",
            "  inflating: /content/data/0055_norm.wav  \n",
            "  inflating: /content/data/0056_norm.wav  \n",
            "  inflating: /content/data/0057_norm.wav  \n"
          ]
        }
      ]
    },
    {
      "cell_type": "markdown",
      "source": [
        "To start, we will split the recordings into a training and testing hold-out set. This is to ensure that we do not see parts of identical recordings in both training or testing"
      ],
      "metadata": {
        "id": "Hhzu86cbm8uG"
      }
    },
    {
      "cell_type": "code",
      "source": [
        "train_list = []\n",
        "test_list = []\n",
        "\n",
        "for i in os.listdir('data/'):\n",
        "  if int(i[:4]) > 30:  # Reserve 27/57 recordings for testing\n",
        "    test_list.append(i)\n",
        "  else:\n",
        "    train_list.append(i)"
      ],
      "metadata": {
        "id": "6m131zSinK94"
      },
      "execution_count": 30,
      "outputs": []
    },
    {
      "cell_type": "markdown",
      "source": [
        "We now have the raw data accessible as files for train and for test, and corresponding label information in `csv` format. We now need to map this data into a form that can be used to perform computations with scikit-learn"
      ],
      "metadata": {
        "id": "lY_xikbIpPJ4"
      }
    },
    {
      "cell_type": "markdown",
      "source": [
        "Pre-process by removing the mean and standard deviation. We will store the results in xyz to then apply to the test data. Note that there are several schemes for normalisation:\n",
        "\n",
        "* Normalise per sample/recording. This is similar to how images will be normalised by their intensity relative to only themselves\n",
        "* As above, but normalise in batches [read more about this]\n",
        "* Use the entire dataset to remove offset statistics such as the mean, and standardise the variance. When predicting over test data, we perform the same transform to the test data.\n",
        "\n",
        "There is no universal or accepted method of normalising audio data, as there are benefits and drawbacks to each. You may experiment with different schemes. However, it is important to consider that some ML algorithms are expected to operate in a certain range, and require re-scaling to appropriate units. An example of this is the SVM because XYZ"
      ],
      "metadata": {
        "id": "Qmt_6z9EqHZy"
      }
    },
    {
      "cell_type": "code",
      "source": [
        "# By default, let us remove the mean and standard deviation per sample.\n",
        "..."
      ],
      "metadata": {
        "id": "iOf10gu3qXnS"
      },
      "execution_count": null,
      "outputs": []
    },
    {
      "cell_type": "markdown",
      "source": [
        "### 2. Feature generation\n",
        "In general, features extracted will vary from domain to domain, and we could opt to go for highly hand-crafted descriptors or let our inference models learn their own representations entirely. Current SOTA performance tends to use something in between, though this is highly dependent on the domain\n",
        "\n",
        "For creating features we have several options to explore with audio:\n",
        "\n",
        "\n",
        "1.   Learn hierarchical feature representations with neural networks from:\n",
        "  1. Raw audio waveform\n",
        "  2. Intermediate feature representations\n",
        "\n",
        "2. Extract descriptive features. In audio these could be MFCCs -- a bandpass of non-linearly spaced frequency features, based on the mel-scale (melodic scale), where humans perceive each band as evenly spaced in blab bla bla [CITE + CORRECT]. There are many features we could go for, such as zero crossing rate, spectral power, fluctuations in xyz - for a complete list you could refer to OpenSMILE. \n",
        "\n",
        "2.   List item\n",
        "\n",
        "\n",
        "2.   List item\n",
        "\n"
      ],
      "metadata": {
        "id": "AKaXjyTd8kyu"
      }
    }
  ]
}