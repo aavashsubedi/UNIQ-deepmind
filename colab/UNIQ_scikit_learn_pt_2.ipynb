{
  "nbformat": 4,
  "nbformat_minor": 0,
  "metadata": {
    "colab": {
      "name": "UNIQ_scikit-learn_pt_2.ipynb",
      "provenance": []
    },
    "kernelspec": {
      "name": "python3",
      "display_name": "Python 3"
    },
    "language_info": {
      "name": "python"
    }
  },
  "cells": [
    {
      "cell_type": "markdown",
      "source": [
        "# Introducing Scikit-Learn (ii)"
      ],
      "metadata": {
        "id": "LPrtgV2gu2QM"
      }
    },
    {
      "cell_type": "markdown",
      "source": [
        "Having completed a basic overview, we will now use Scikit-Learn to visualise  a few fundamental concepts in machine learning. These will include:\n",
        "* Bias-variance trade-off\n",
        "* Something else\n",
        "\n",
        "Thereafter, we will move to a real-world example to give you the opportunity to conduct a mock data science problem yourself. There is no expectation on any particular scores your models might achieve, the only goal is that you get a feel for how one might approach an ML problem, and what tools exist to score your model."
      ],
      "metadata": {
        "id": "A_XNU6VFvHOP"
      }
    },
    {
      "cell_type": "markdown",
      "source": [
        "### Bias-variance tradeoff"
      ],
      "metadata": {
        "id": "og9HvadR08Rm"
      }
    },
    {
      "cell_type": "code",
      "source": [
        "..."
      ],
      "metadata": {
        "id": "QmsnbqMz0_tc"
      },
      "execution_count": null,
      "outputs": []
    },
    {
      "cell_type": "markdown",
      "source": [
        "### Scoring functions\n",
        "\n",
        "\n",
        "*   Precision-Recall curves\n",
        "*   Receiver operating characteristic curves\n",
        "*   Confusion matrices\n",
        "\n"
      ],
      "metadata": {
        "id": "WzGIHBDCr6zN"
      }
    },
    {
      "cell_type": "markdown",
      "source": [
        "## Example real-world problem"
      ],
      "metadata": {
        "id": "5RWbK5Fu1Bag"
      }
    },
    {
      "cell_type": "markdown",
      "source": [
        "Machine learning is prevelant in today's scientific landscape, with applications spanning Biomedical engineering, astrostatistics, finance, the entertainment industry, and countless other disciplines. \n",
        "\n",
        "In this tutorial we will consider how one might use ML to classify acoustics into categories. This type of analysis involves:\n",
        "\n",
        "\n",
        "\n",
        "1.   Data collection and pre-processing\n",
        "2.   Feature generation\n",
        "3.   Model selection\n",
        "4.   Model training\n",
        "5.   Analysing model performance\n",
        "\n",
        "You will find in practice that the key to unlocking good predictive insights is the quality and quantity of data used. We will however not make this the focal point, and assume the data is clean within reason.\n",
        "\n",
        "If you are interested in common difficulties encountered with data processing, please refer to [XYZ]\n",
        "\n"
      ],
      "metadata": {
        "id": "P0N8pgRI3ikP"
      }
    },
    {
      "cell_type": "markdown",
      "source": [
        "### Problem definition\n",
        "#### Mosquito acoustic detection: can we use machine learning to detect mosquitoes from the sound of their acoustic wingbeat?\n",
        "\n",
        "Mosquitoes are responsible over xyz yyz [cite]. As a byproduct of their behaviour patterns, they produce a characteristic buzz from their flight, mating calls, and other etc... The idea is to leverage this sound with cheap sensors (acoustic smartphone sensors in an IoT network) to be able to estimate the prevelance of mosquitoes in a particular area. To do this, we need algorithms capable of distinguishing the buzz of mosquito from its surroundings. In this challenge we will show how it is possible to use Scikit-learn to build a basic classifier to achieve this."
      ],
      "metadata": {
        "id": "Rc6fC_-F3WqH"
      }
    },
    {
      "cell_type": "markdown",
      "source": [
        "### 1. Data collection and pre-processing\n",
        "\n",
        "By default, opening colab will place you in the following directory:"
      ],
      "metadata": {
        "id": "j9MLBeU8p7Vr"
      }
    },
    {
      "cell_type": "code",
      "source": [
        "import os\n",
        "os.getcwd()"
      ],
      "metadata": {
        "colab": {
          "base_uri": "https://localhost:8080/",
          "height": 36
        },
        "id": "VHg9bjC4ij54",
        "outputId": "deb2491e-85c8-4796-cc28-4b6d982f0c1c"
      },
      "execution_count": 18,
      "outputs": [
        {
          "output_type": "execute_result",
          "data": {
            "text/plain": [
              "'/content'"
            ],
            "application/vnd.google.colaboratory.intrinsic+json": {
              "type": "string"
            }
          },
          "metadata": {},
          "execution_count": 18
        }
      ]
    },
    {
      "cell_type": "markdown",
      "source": [
        "We can now donwload the dataset of interest from the repository with `wget` and unzip to the subfolder `data`. The `!` before the command is used to run operating system commands directly in the notebook cell (in this case, which ever Linux OS the colab machines are using)."
      ],
      "metadata": {
        "id": "iFSHA-ill75A"
      }
    },
    {
      "cell_type": "code",
      "source": [
        "!wget https://github.com/ikiskin/UNIQ-deepmind/raw/master/data/CulexMozzSounds.zip # Get audio files\n",
        "!wget https://github.com/ikiskin/UNIQ-deepmind/raw/master/data/CulexUNIQ.csv -O /content/data/CulexUNIQ.csv # Get labels and place in data subdir\n",
        "!unzip /content/CulexMozzSounds.zip -d /content/data/ # unzip files to data subdir"
      ],
      "metadata": {
        "id": "UC9Zik-FoFFQ",
        "colab": {
          "base_uri": "https://localhost:8080/"
        },
        "outputId": "f8598109-d729-46bb-e173-555cb7cebb88"
      },
      "execution_count": 38,
      "outputs": [
        {
          "output_type": "stream",
          "name": "stdout",
          "text": [
            "--2022-06-29 18:44:36--  https://github.com/ikiskin/UNIQ-deepmind/raw/master/data/CulexUNIQ.csv\n",
            "Resolving github.com (github.com)... 140.82.114.3\n",
            "Connecting to github.com (github.com)|140.82.114.3|:443... connected.\n",
            "HTTP request sent, awaiting response... 302 Found\n",
            "Location: https://raw.githubusercontent.com/ikiskin/UNIQ-deepmind/master/data/CulexUNIQ.csv [following]\n",
            "--2022-06-29 18:44:36--  https://raw.githubusercontent.com/ikiskin/UNIQ-deepmind/master/data/CulexUNIQ.csv\n",
            "Resolving raw.githubusercontent.com (raw.githubusercontent.com)... 185.199.110.133, 185.199.111.133, 185.199.109.133, ...\n",
            "Connecting to raw.githubusercontent.com (raw.githubusercontent.com)|185.199.110.133|:443... connected.\n",
            "HTTP request sent, awaiting response... 200 OK\n",
            "Length: 22478 (22K) [text/plain]\n",
            "Saving to: ‘/content/data/CulexUNIQ.csv’\n",
            "\n",
            "\r          /content/   0%[                    ]       0  --.-KB/s               \r/content/data/Culex 100%[===================>]  21.95K  --.-KB/s    in 0.001s  \n",
            "\n",
            "2022-06-29 18:44:36 (15.8 MB/s) - ‘/content/data/CulexUNIQ.csv’ saved [22478/22478]\n",
            "\n"
          ]
        }
      ]
    },
    {
      "cell_type": "markdown",
      "source": [
        "To start, we will split the recordings into a training and testing hold-out set. This is to ensure that we do not see parts of identical recordings in both training or testing"
      ],
      "metadata": {
        "id": "Hhzu86cbm8uG"
      }
    },
    {
      "cell_type": "code",
      "source": [
        "import pandas as pd"
      ],
      "metadata": {
        "id": "-nQcE4bDxhP5"
      },
      "execution_count": 36,
      "outputs": []
    },
    {
      "cell_type": "code",
      "source": [
        "df = pd.read_csv('data/CulexUNIQ.csv')"
      ],
      "metadata": {
        "id": "KgBRi-AdxiZA"
      },
      "execution_count": 39,
      "outputs": []
    },
    {
      "cell_type": "code",
      "source": [
        "df.head()  # Display a few label entries"
      ],
      "metadata": {
        "id": "KyPGrHNvx-oQ",
        "outputId": "e1978df0-c78d-4c60-a796-2b1601921920",
        "colab": {
          "base_uri": "https://localhost:8080/",
          "height": 216
        }
      },
      "execution_count": 41,
      "outputs": [
        {
          "output_type": "execute_result",
          "data": {
            "text/plain": [
              "       id  fine_start_time  fine_end_time                         path  \\\n",
              "0  222691              0.0         53.760  /Culex/sounds/0001_norm.wav   \n",
              "1  222692              0.0         54.272  /Culex/sounds/0002_norm.wav   \n",
              "2  222693              0.0         54.272  /Culex/sounds/0003_norm.wav   \n",
              "3  222694              0.0         54.272  /Culex/sounds/0004_norm.wav   \n",
              "4  222695              0.0         54.272  /Culex/sounds/0005_norm.wav   \n",
              "\n",
              "            name  sample_rate  sound_type species  gender  fed  plurality  \\\n",
              "0  0001_norm.wav         8000  background     NaN     NaN  NaN        NaN   \n",
              "1  0002_norm.wav         8000  background     NaN     NaN  NaN        NaN   \n",
              "2  0003_norm.wav         8000  background     NaN     NaN  NaN        NaN   \n",
              "3  0004_norm.wav         8000  background     NaN     NaN  NaN        NaN   \n",
              "4  0005_norm.wav         8000  background     NaN     NaN  NaN        NaN   \n",
              "\n",
              "   age  method mic_type device_type country     district  province  \\\n",
              "0  NaN     NaN    phone     Alcatel      UK  Oxfordshire       NaN   \n",
              "1  NaN     NaN    phone     Alcatel      UK  Oxfordshire       NaN   \n",
              "2  NaN     NaN    phone     Alcatel      UK  Oxfordshire       NaN   \n",
              "3  NaN     NaN    phone     Alcatel      UK  Oxfordshire       NaN   \n",
              "4  NaN     NaN    phone     Alcatel      UK  Oxfordshire       NaN   \n",
              "\n",
              "            place location_type  \n",
              "0  Oxford Zoology       culture  \n",
              "1  Oxford Zoology       culture  \n",
              "2  Oxford Zoology       culture  \n",
              "3  Oxford Zoology       culture  \n",
              "4  Oxford Zoology       culture  "
            ],
            "text/html": [
              "\n",
              "  <div id=\"df-f4da09b4-0ef7-4ba8-94be-b793ff55229b\">\n",
              "    <div class=\"colab-df-container\">\n",
              "      <div>\n",
              "<style scoped>\n",
              "    .dataframe tbody tr th:only-of-type {\n",
              "        vertical-align: middle;\n",
              "    }\n",
              "\n",
              "    .dataframe tbody tr th {\n",
              "        vertical-align: top;\n",
              "    }\n",
              "\n",
              "    .dataframe thead th {\n",
              "        text-align: right;\n",
              "    }\n",
              "</style>\n",
              "<table border=\"1\" class=\"dataframe\">\n",
              "  <thead>\n",
              "    <tr style=\"text-align: right;\">\n",
              "      <th></th>\n",
              "      <th>id</th>\n",
              "      <th>fine_start_time</th>\n",
              "      <th>fine_end_time</th>\n",
              "      <th>path</th>\n",
              "      <th>name</th>\n",
              "      <th>sample_rate</th>\n",
              "      <th>sound_type</th>\n",
              "      <th>species</th>\n",
              "      <th>gender</th>\n",
              "      <th>fed</th>\n",
              "      <th>plurality</th>\n",
              "      <th>age</th>\n",
              "      <th>method</th>\n",
              "      <th>mic_type</th>\n",
              "      <th>device_type</th>\n",
              "      <th>country</th>\n",
              "      <th>district</th>\n",
              "      <th>province</th>\n",
              "      <th>place</th>\n",
              "      <th>location_type</th>\n",
              "    </tr>\n",
              "  </thead>\n",
              "  <tbody>\n",
              "    <tr>\n",
              "      <th>0</th>\n",
              "      <td>222691</td>\n",
              "      <td>0.0</td>\n",
              "      <td>53.760</td>\n",
              "      <td>/Culex/sounds/0001_norm.wav</td>\n",
              "      <td>0001_norm.wav</td>\n",
              "      <td>8000</td>\n",
              "      <td>background</td>\n",
              "      <td>NaN</td>\n",
              "      <td>NaN</td>\n",
              "      <td>NaN</td>\n",
              "      <td>NaN</td>\n",
              "      <td>NaN</td>\n",
              "      <td>NaN</td>\n",
              "      <td>phone</td>\n",
              "      <td>Alcatel</td>\n",
              "      <td>UK</td>\n",
              "      <td>Oxfordshire</td>\n",
              "      <td>NaN</td>\n",
              "      <td>Oxford Zoology</td>\n",
              "      <td>culture</td>\n",
              "    </tr>\n",
              "    <tr>\n",
              "      <th>1</th>\n",
              "      <td>222692</td>\n",
              "      <td>0.0</td>\n",
              "      <td>54.272</td>\n",
              "      <td>/Culex/sounds/0002_norm.wav</td>\n",
              "      <td>0002_norm.wav</td>\n",
              "      <td>8000</td>\n",
              "      <td>background</td>\n",
              "      <td>NaN</td>\n",
              "      <td>NaN</td>\n",
              "      <td>NaN</td>\n",
              "      <td>NaN</td>\n",
              "      <td>NaN</td>\n",
              "      <td>NaN</td>\n",
              "      <td>phone</td>\n",
              "      <td>Alcatel</td>\n",
              "      <td>UK</td>\n",
              "      <td>Oxfordshire</td>\n",
              "      <td>NaN</td>\n",
              "      <td>Oxford Zoology</td>\n",
              "      <td>culture</td>\n",
              "    </tr>\n",
              "    <tr>\n",
              "      <th>2</th>\n",
              "      <td>222693</td>\n",
              "      <td>0.0</td>\n",
              "      <td>54.272</td>\n",
              "      <td>/Culex/sounds/0003_norm.wav</td>\n",
              "      <td>0003_norm.wav</td>\n",
              "      <td>8000</td>\n",
              "      <td>background</td>\n",
              "      <td>NaN</td>\n",
              "      <td>NaN</td>\n",
              "      <td>NaN</td>\n",
              "      <td>NaN</td>\n",
              "      <td>NaN</td>\n",
              "      <td>NaN</td>\n",
              "      <td>phone</td>\n",
              "      <td>Alcatel</td>\n",
              "      <td>UK</td>\n",
              "      <td>Oxfordshire</td>\n",
              "      <td>NaN</td>\n",
              "      <td>Oxford Zoology</td>\n",
              "      <td>culture</td>\n",
              "    </tr>\n",
              "    <tr>\n",
              "      <th>3</th>\n",
              "      <td>222694</td>\n",
              "      <td>0.0</td>\n",
              "      <td>54.272</td>\n",
              "      <td>/Culex/sounds/0004_norm.wav</td>\n",
              "      <td>0004_norm.wav</td>\n",
              "      <td>8000</td>\n",
              "      <td>background</td>\n",
              "      <td>NaN</td>\n",
              "      <td>NaN</td>\n",
              "      <td>NaN</td>\n",
              "      <td>NaN</td>\n",
              "      <td>NaN</td>\n",
              "      <td>NaN</td>\n",
              "      <td>phone</td>\n",
              "      <td>Alcatel</td>\n",
              "      <td>UK</td>\n",
              "      <td>Oxfordshire</td>\n",
              "      <td>NaN</td>\n",
              "      <td>Oxford Zoology</td>\n",
              "      <td>culture</td>\n",
              "    </tr>\n",
              "    <tr>\n",
              "      <th>4</th>\n",
              "      <td>222695</td>\n",
              "      <td>0.0</td>\n",
              "      <td>54.272</td>\n",
              "      <td>/Culex/sounds/0005_norm.wav</td>\n",
              "      <td>0005_norm.wav</td>\n",
              "      <td>8000</td>\n",
              "      <td>background</td>\n",
              "      <td>NaN</td>\n",
              "      <td>NaN</td>\n",
              "      <td>NaN</td>\n",
              "      <td>NaN</td>\n",
              "      <td>NaN</td>\n",
              "      <td>NaN</td>\n",
              "      <td>phone</td>\n",
              "      <td>Alcatel</td>\n",
              "      <td>UK</td>\n",
              "      <td>Oxfordshire</td>\n",
              "      <td>NaN</td>\n",
              "      <td>Oxford Zoology</td>\n",
              "      <td>culture</td>\n",
              "    </tr>\n",
              "  </tbody>\n",
              "</table>\n",
              "</div>\n",
              "      <button class=\"colab-df-convert\" onclick=\"convertToInteractive('df-f4da09b4-0ef7-4ba8-94be-b793ff55229b')\"\n",
              "              title=\"Convert this dataframe to an interactive table.\"\n",
              "              style=\"display:none;\">\n",
              "        \n",
              "  <svg xmlns=\"http://www.w3.org/2000/svg\" height=\"24px\"viewBox=\"0 0 24 24\"\n",
              "       width=\"24px\">\n",
              "    <path d=\"M0 0h24v24H0V0z\" fill=\"none\"/>\n",
              "    <path d=\"M18.56 5.44l.94 2.06.94-2.06 2.06-.94-2.06-.94-.94-2.06-.94 2.06-2.06.94zm-11 1L8.5 8.5l.94-2.06 2.06-.94-2.06-.94L8.5 2.5l-.94 2.06-2.06.94zm10 10l.94 2.06.94-2.06 2.06-.94-2.06-.94-.94-2.06-.94 2.06-2.06.94z\"/><path d=\"M17.41 7.96l-1.37-1.37c-.4-.4-.92-.59-1.43-.59-.52 0-1.04.2-1.43.59L10.3 9.45l-7.72 7.72c-.78.78-.78 2.05 0 2.83L4 21.41c.39.39.9.59 1.41.59.51 0 1.02-.2 1.41-.59l7.78-7.78 2.81-2.81c.8-.78.8-2.07 0-2.86zM5.41 20L4 18.59l7.72-7.72 1.47 1.35L5.41 20z\"/>\n",
              "  </svg>\n",
              "      </button>\n",
              "      \n",
              "  <style>\n",
              "    .colab-df-container {\n",
              "      display:flex;\n",
              "      flex-wrap:wrap;\n",
              "      gap: 12px;\n",
              "    }\n",
              "\n",
              "    .colab-df-convert {\n",
              "      background-color: #E8F0FE;\n",
              "      border: none;\n",
              "      border-radius: 50%;\n",
              "      cursor: pointer;\n",
              "      display: none;\n",
              "      fill: #1967D2;\n",
              "      height: 32px;\n",
              "      padding: 0 0 0 0;\n",
              "      width: 32px;\n",
              "    }\n",
              "\n",
              "    .colab-df-convert:hover {\n",
              "      background-color: #E2EBFA;\n",
              "      box-shadow: 0px 1px 2px rgba(60, 64, 67, 0.3), 0px 1px 3px 1px rgba(60, 64, 67, 0.15);\n",
              "      fill: #174EA6;\n",
              "    }\n",
              "\n",
              "    [theme=dark] .colab-df-convert {\n",
              "      background-color: #3B4455;\n",
              "      fill: #D2E3FC;\n",
              "    }\n",
              "\n",
              "    [theme=dark] .colab-df-convert:hover {\n",
              "      background-color: #434B5C;\n",
              "      box-shadow: 0px 1px 3px 1px rgba(0, 0, 0, 0.15);\n",
              "      filter: drop-shadow(0px 1px 2px rgba(0, 0, 0, 0.3));\n",
              "      fill: #FFFFFF;\n",
              "    }\n",
              "  </style>\n",
              "\n",
              "      <script>\n",
              "        const buttonEl =\n",
              "          document.querySelector('#df-f4da09b4-0ef7-4ba8-94be-b793ff55229b button.colab-df-convert');\n",
              "        buttonEl.style.display =\n",
              "          google.colab.kernel.accessAllowed ? 'block' : 'none';\n",
              "\n",
              "        async function convertToInteractive(key) {\n",
              "          const element = document.querySelector('#df-f4da09b4-0ef7-4ba8-94be-b793ff55229b');\n",
              "          const dataTable =\n",
              "            await google.colab.kernel.invokeFunction('convertToInteractive',\n",
              "                                                     [key], {});\n",
              "          if (!dataTable) return;\n",
              "\n",
              "          const docLinkHtml = 'Like what you see? Visit the ' +\n",
              "            '<a target=\"_blank\" href=https://colab.research.google.com/notebooks/data_table.ipynb>data table notebook</a>'\n",
              "            + ' to learn more about interactive tables.';\n",
              "          element.innerHTML = '';\n",
              "          dataTable['output_type'] = 'display_data';\n",
              "          await google.colab.output.renderOutput(dataTable, element);\n",
              "          const docLink = document.createElement('div');\n",
              "          docLink.innerHTML = docLinkHtml;\n",
              "          element.appendChild(docLink);\n",
              "        }\n",
              "      </script>\n",
              "    </div>\n",
              "  </div>\n",
              "  "
            ]
          },
          "metadata": {},
          "execution_count": 41
        }
      ]
    },
    {
      "cell_type": "code",
      "source": [
        "train_list = []\n",
        "test_list = []\n",
        "\n",
        "for i in os.listdir('data/'):\n",
        "  if int(i[:4]) > 30:  # Reserve 27/57 recordings for testing\n",
        "    test_list.append(i)\n",
        "  else:\n",
        "    train_list.append(i)"
      ],
      "metadata": {
        "id": "6m131zSinK94"
      },
      "execution_count": 30,
      "outputs": []
    },
    {
      "cell_type": "markdown",
      "source": [
        "We now have the raw data accessible as files for train and for test, and corresponding label information in `csv` format. We now need to map this data into a form that can be used to perform computations with scikit-learn"
      ],
      "metadata": {
        "id": "lY_xikbIpPJ4"
      }
    },
    {
      "cell_type": "code",
      "source": [
        ""
      ],
      "metadata": {
        "id": "zzZig3-3yb9Z"
      },
      "execution_count": null,
      "outputs": []
    },
    {
      "cell_type": "markdown",
      "source": [
        "Pre-process by removing the mean and standard deviation. We will store the results in xyz to then apply to the test data. Note that there are several schemes for normalisation:\n",
        "\n",
        "* Normalise per sample/recording. This is similar to how images will be normalised by their intensity relative to only themselves\n",
        "* As above, but normalise in batches [read more about this]\n",
        "* Use the entire dataset to remove offset statistics such as the mean, and standardise the variance. When predicting over test data, we perform the same transform to the test data.\n",
        "\n",
        "There is no universal or accepted method of normalising audio data, as there are benefits and drawbacks to each. You may experiment with different schemes. However, it is important to consider that some ML algorithms are expected to operate in a certain range, and require re-scaling to appropriate units. An example of this is the SVM because XYZ"
      ],
      "metadata": {
        "id": "Qmt_6z9EqHZy"
      }
    },
    {
      "cell_type": "code",
      "source": [
        "# By default, let us remove the mean and standard deviation per sample.\n",
        "..."
      ],
      "metadata": {
        "id": "iOf10gu3qXnS"
      },
      "execution_count": null,
      "outputs": []
    },
    {
      "cell_type": "markdown",
      "source": [
        "### 2. Feature generation\n",
        "In general, features extracted will vary from domain to domain, and we could opt to go for highly hand-crafted descriptors or let our inference models learn their own representations entirely. Current SOTA performance tends to use something in between, though this is highly dependent on the domain\n",
        "\n",
        "For creating features we have several options to explore with audio:\n",
        "\n",
        "\n",
        "1.   Learn hierarchical feature representations with neural networks from:\n",
        "  1. Raw audio waveform\n",
        "  2. Intermediate feature representations\n",
        "\n",
        "2. Extract descriptive features. In audio these could be MFCCs -- a bandpass of non-linearly spaced frequency features, based on the mel-scale (melodic scale), where humans perceive each band as evenly spaced in blab bla bla [CITE + CORRECT]. There are many features we could go for, such as zero crossing rate, spectral power, fluctuations in xyz - for a complete list you could refer to OpenSMILE. \n",
        "\n",
        "2.   List item\n",
        "\n",
        "\n",
        "2.   List item\n",
        "\n"
      ],
      "metadata": {
        "id": "AKaXjyTd8kyu"
      }
    }
  ]
}